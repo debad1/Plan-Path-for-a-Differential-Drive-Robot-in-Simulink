{
  "nbformat": 4,
  "nbformat_minor": 0,
  "metadata": {
    "colab": {
      "provenance": []
    },
    "kernelspec": {
      "name": "python3",
      "display_name": "Python 3"
    },
    "language_info": {
      "name": "python"
    }
  },
  "cells": [
    {
      "cell_type": "code",
      "source": [
        "import numpy as np\n",
        "!pip install control"
      ],
      "metadata": {
        "colab": {
          "base_uri": "https://localhost:8080/"
        },
        "id": "3GosCIaJEiLv",
        "outputId": "c489ef6e-1dc2-49ff-fa88-05b85b277545"
      },
      "execution_count": 3,
      "outputs": [
        {
          "output_type": "stream",
          "name": "stdout",
          "text": [
            "Collecting control\n",
            "  Downloading control-0.10.0-py3-none-any.whl (513 kB)\n",
            "\u001b[?25l     \u001b[90m━━━━━━━━━━━━━━━━━━━━━━━━━━━━━━━━━━━━━━━━\u001b[0m \u001b[32m0.0/513.9 kB\u001b[0m \u001b[31m?\u001b[0m eta \u001b[36m-:--:--\u001b[0m\r\u001b[2K     \u001b[91m━━━━━━━━━━━━\u001b[0m\u001b[91m╸\u001b[0m\u001b[90m━━━━━━━━━━━━━━━━━━━━━━━━━━━\u001b[0m \u001b[32m163.8/513.9 kB\u001b[0m \u001b[31m4.7 MB/s\u001b[0m eta \u001b[36m0:00:01\u001b[0m\r\u001b[2K     \u001b[91m━━━━━━━━━━━━━━━━━━━━━━━━━━━━━━━━━━━━━━━\u001b[0m\u001b[91m╸\u001b[0m \u001b[32m512.0/513.9 kB\u001b[0m \u001b[31m7.8 MB/s\u001b[0m eta \u001b[36m0:00:01\u001b[0m\r\u001b[2K     \u001b[90m━━━━━━━━━━━━━━━━━━━━━━━━━━━━━━━━━━━━━━━━\u001b[0m \u001b[32m513.9/513.9 kB\u001b[0m \u001b[31m7.0 MB/s\u001b[0m eta \u001b[36m0:00:00\u001b[0m\n",
            "\u001b[?25hRequirement already satisfied: numpy>=1.23 in /usr/local/lib/python3.10/dist-packages (from control) (1.25.2)\n",
            "Requirement already satisfied: scipy>=1.8 in /usr/local/lib/python3.10/dist-packages (from control) (1.11.4)\n",
            "Requirement already satisfied: matplotlib>=3.6 in /usr/local/lib/python3.10/dist-packages (from control) (3.7.1)\n",
            "Requirement already satisfied: contourpy>=1.0.1 in /usr/local/lib/python3.10/dist-packages (from matplotlib>=3.6->control) (1.2.0)\n",
            "Requirement already satisfied: cycler>=0.10 in /usr/local/lib/python3.10/dist-packages (from matplotlib>=3.6->control) (0.12.1)\n",
            "Requirement already satisfied: fonttools>=4.22.0 in /usr/local/lib/python3.10/dist-packages (from matplotlib>=3.6->control) (4.50.0)\n",
            "Requirement already satisfied: kiwisolver>=1.0.1 in /usr/local/lib/python3.10/dist-packages (from matplotlib>=3.6->control) (1.4.5)\n",
            "Requirement already satisfied: packaging>=20.0 in /usr/local/lib/python3.10/dist-packages (from matplotlib>=3.6->control) (24.0)\n",
            "Requirement already satisfied: pillow>=6.2.0 in /usr/local/lib/python3.10/dist-packages (from matplotlib>=3.6->control) (9.4.0)\n",
            "Requirement already satisfied: pyparsing>=2.3.1 in /usr/local/lib/python3.10/dist-packages (from matplotlib>=3.6->control) (3.1.2)\n",
            "Requirement already satisfied: python-dateutil>=2.7 in /usr/local/lib/python3.10/dist-packages (from matplotlib>=3.6->control) (2.8.2)\n",
            "Requirement already satisfied: six>=1.5 in /usr/local/lib/python3.10/dist-packages (from python-dateutil>=2.7->matplotlib>=3.6->control) (1.16.0)\n",
            "Installing collected packages: control\n",
            "Successfully installed control-0.10.0\n"
          ]
        }
      ]
    },
    {
      "cell_type": "code",
      "source": [
        "import control"
      ],
      "metadata": {
        "id": "Utd-roSgFIXF"
      },
      "execution_count": 8,
      "outputs": []
    },
    {
      "cell_type": "code",
      "source": [
        "import numpy as np\n",
        "from numpy import cos, sin, eye\n",
        "import control\n",
        "\n",
        "def parametres():\n",
        "    return {'theta': np.pi/4, 'v': 2, 'w': 1}\n",
        "\n",
        "parms = parametres()\n",
        "theta = parms['theta']\n",
        "v = parms['v']\n",
        "w = parms['w']\n",
        "\n",
        "A = np.array([\n",
        "    [0, 0, -v*sin(theta)],\n",
        "    [0, 0, v*cos(theta)],\n",
        "    [0, 0, 0]\n",
        "])\n",
        "\n",
        "B = np.array([\n",
        "    [cos(theta), 0],\n",
        "    [sin(theta), 0],\n",
        "    [0, 1]\n",
        "])\n",
        "\n",
        "# Calcul des valeurs propres du système non contrôlé\n",
        "eigVal, eigVec = np.linalg.eig(A)\n",
        "\n",
        "# Calcul de la contrôlabilité du système\n",
        "Co = control.ctrb(A, B)\n",
        "print('rang', np.linalg.matrix_rank(Co))\n",
        "\n",
        "# Placement des pôles\n",
        "print('\\nPôle placement')\n",
        "p = np.array([-1, -2, -3])\n",
        "K = control.place(A, B, p)\n",
        "print('K = ', K)\n",
        "\n",
        "# Calcul des valeurs propres du système contrôlé\n",
        "eigVal_ctrl, eigVec_ctrl = np.linalg.eig(A - B @ K)\n",
        "print('eig-vals (contrôlé) = ', eigVal_ctrl)\n",
        "\n",
        "# Contrôleur LQR\n",
        "Q = np.eye(3)\n",
        "R = 1e-2 * eye(2)\n",
        "K_lqr, S, E = control.lqr(A, B, Q, R)\n",
        "print('K (LQR) = ', K_lqr)\n",
        "print('eig-vals (contrôlé LQR) = ', E)\n"
      ],
      "metadata": {
        "colab": {
          "base_uri": "https://localhost:8080/"
        },
        "id": "qnGYSCTiExre",
        "outputId": "01a6ff06-ec1e-419a-8547-0a7e969daf73"
      },
      "execution_count": 14,
      "outputs": [
        {
          "output_type": "stream",
          "name": "stdout",
          "text": [
            "rang 3\n",
            "\n",
            "Pôle placement\n",
            "K =  [[ 1.41616988e+00  1.41225704e+00 -2.52964100e-03]\n",
            " [-1.06088415e+00  1.06043697e+00  4.00000015e+00]]\n",
            "eig-vals (contrôlé) =  [-3. -1. -2.]\n",
            "K (LQR) =  [[ 7.07106781e+00  7.07106781e+00  4.01594210e-15]\n",
            " [-7.07106781e+00  7.07106781e+00  1.18321596e+01]]\n",
            "eig-vals (contrôlé LQR) =  [ -2.04309644 -10.          -9.78906313]\n"
          ]
        }
      ]
    }
  ]
}